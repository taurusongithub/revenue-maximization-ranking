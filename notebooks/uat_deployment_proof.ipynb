{
 "cells": [
  {
   "cell_type": "code",
   "execution_count": 1,
   "id": "bb5c6cbb-adb2-41fb-b939-dcb4f636b3ae",
   "metadata": {
    "execution": {
     "iopub.execute_input": "2022-03-08T19:13:22.097964Z",
     "iopub.status.busy": "2022-03-08T19:13:22.097573Z",
     "iopub.status.idle": "2022-03-08T19:13:22.597550Z",
     "shell.execute_reply": "2022-03-08T19:13:22.596975Z"
    }
   },
   "outputs": [],
   "source": [
    "from scipy.stats import randint\n",
    "import pandas as pd\n",
    "import revenue_maximization_ranking as rmr\n",
    "from revenue_maximization_ranking.cascade import full_best_x, expected_revenue\n"
   ]
  },
  {
   "cell_type": "code",
   "execution_count": 2,
   "id": "c7a2b88e-6747-4963-83ef-4f3fd96b90e2",
   "metadata": {
    "execution": {
     "iopub.execute_input": "2022-03-08T19:13:22.601204Z",
     "iopub.status.busy": "2022-03-08T19:13:22.601006Z",
     "iopub.status.idle": "2022-03-08T19:13:22.610562Z",
     "shell.execute_reply": "2022-03-08T19:13:22.610037Z"
    }
   },
   "outputs": [
    {
     "data": {
      "text/plain": [
       "'0.0.4'"
      ]
     },
     "execution_count": 2,
     "metadata": {},
     "output_type": "execute_result"
    }
   ],
   "source": [
    "rmr.__version__"
   ]
  },
  {
   "cell_type": "code",
   "execution_count": 3,
   "id": "8e0d84de-5998-4656-82ca-75f60fef1e2d",
   "metadata": {
    "execution": {
     "iopub.execute_input": "2022-03-08T19:13:22.613482Z",
     "iopub.status.busy": "2022-03-08T19:13:22.613020Z",
     "iopub.status.idle": "2022-03-08T19:13:22.616855Z",
     "shell.execute_reply": "2022-03-08T19:13:22.616348Z"
    }
   },
   "outputs": [],
   "source": [
    "g = randint(1, 20)\n"
   ]
  },
  {
   "cell_type": "code",
   "execution_count": 4,
   "id": "1be8fe51-9f53-430d-acfa-6170cbc07727",
   "metadata": {
    "execution": {
     "iopub.execute_input": "2022-03-08T19:13:22.619375Z",
     "iopub.status.busy": "2022-03-08T19:13:22.618956Z",
     "iopub.status.idle": "2022-03-08T19:13:22.623498Z",
     "shell.execute_reply": "2022-03-08T19:13:22.622973Z"
    }
   },
   "outputs": [],
   "source": [
    "df = pd.DataFrame({\"name\": list(\"abcdefghijklmnop\"),\n",
    "                   \"rev\": [3.1, 1.1, 5.1, 0.1, 0.3, 0.3, 3.1, 0.4, 0.4, 0.01,\n",
    "                           0.01, 1.1, 1.08, 3.2, 0.001, 0.1],\n",
    "                   \"prob\": [0.05, 0.02, 0.005, 0.01, 0.1, 0.08, 0.12, 0.06,\n",
    "                            0.05, 1-0, 0.99, 0.1, 0.1, 0.04, 1.0, 0.05]})\n"
   ]
  },
  {
   "cell_type": "code",
   "execution_count": 5,
   "id": "52dfa00a-012b-471f-a05a-4f1400705c83",
   "metadata": {
    "execution": {
     "iopub.execute_input": "2022-03-08T19:13:22.626198Z",
     "iopub.status.busy": "2022-03-08T19:13:22.625768Z",
     "iopub.status.idle": "2022-03-08T19:13:22.629637Z",
     "shell.execute_reply": "2022-03-08T19:13:22.629116Z"
    }
   },
   "outputs": [],
   "source": [
    "df[\"default_rnk\"] = [i + 1 for i in range(df.shape[0])]\n"
   ]
  },
  {
   "cell_type": "code",
   "execution_count": 6,
   "id": "a37a19e2-db08-4b57-a5e4-c350ab23c7a4",
   "metadata": {
    "execution": {
     "iopub.execute_input": "2022-03-08T19:13:22.633139Z",
     "iopub.status.busy": "2022-03-08T19:13:22.632716Z",
     "iopub.status.idle": "2022-03-08T19:13:22.644589Z",
     "shell.execute_reply": "2022-03-08T19:13:22.644123Z"
    }
   },
   "outputs": [],
   "source": [
    "rev_default = expected_revenue(df, revenue_col=\"rev\", probability_col=\"prob\", \n",
    "                               ranking_col=\"default_rnk\", g=g)\n"
   ]
  },
  {
   "cell_type": "code",
   "execution_count": 7,
   "id": "d987e9ef-50dd-4fd8-b76c-2adeb30f7475",
   "metadata": {
    "execution": {
     "iopub.execute_input": "2022-03-08T19:13:22.647233Z",
     "iopub.status.busy": "2022-03-08T19:13:22.646951Z",
     "iopub.status.idle": "2022-03-08T19:13:22.659088Z",
     "shell.execute_reply": "2022-03-08T19:13:22.658574Z"
    }
   },
   "outputs": [],
   "source": [
    "df[\"ranking\"] = full_best_x(df, revenue_col=\"rev\", probability_col=\"prob\",\n",
    "                            g=g)\n"
   ]
  },
  {
   "cell_type": "code",
   "execution_count": 8,
   "id": "f679e1b6-0dbb-40c0-80be-807230eb0607",
   "metadata": {
    "execution": {
     "iopub.execute_input": "2022-03-08T19:13:22.661734Z",
     "iopub.status.busy": "2022-03-08T19:13:22.661382Z",
     "iopub.status.idle": "2022-03-08T19:13:22.671518Z",
     "shell.execute_reply": "2022-03-08T19:13:22.671011Z"
    }
   },
   "outputs": [
    {
     "data": {
      "text/html": [
       "<div>\n",
       "<style scoped>\n",
       "    .dataframe tbody tr th:only-of-type {\n",
       "        vertical-align: middle;\n",
       "    }\n",
       "\n",
       "    .dataframe tbody tr th {\n",
       "        vertical-align: top;\n",
       "    }\n",
       "\n",
       "    .dataframe thead th {\n",
       "        text-align: right;\n",
       "    }\n",
       "</style>\n",
       "<table border=\"1\" class=\"dataframe\">\n",
       "  <thead>\n",
       "    <tr style=\"text-align: right;\">\n",
       "      <th></th>\n",
       "      <th>name</th>\n",
       "      <th>rev</th>\n",
       "      <th>prob</th>\n",
       "      <th>default_rnk</th>\n",
       "      <th>ranking</th>\n",
       "    </tr>\n",
       "  </thead>\n",
       "  <tbody>\n",
       "    <tr>\n",
       "      <th>0</th>\n",
       "      <td>a</td>\n",
       "      <td>3.100</td>\n",
       "      <td>0.050</td>\n",
       "      <td>1</td>\n",
       "      <td>3</td>\n",
       "    </tr>\n",
       "    <tr>\n",
       "      <th>1</th>\n",
       "      <td>b</td>\n",
       "      <td>1.100</td>\n",
       "      <td>0.020</td>\n",
       "      <td>2</td>\n",
       "      <td>7</td>\n",
       "    </tr>\n",
       "    <tr>\n",
       "      <th>2</th>\n",
       "      <td>c</td>\n",
       "      <td>5.100</td>\n",
       "      <td>0.005</td>\n",
       "      <td>3</td>\n",
       "      <td>6</td>\n",
       "    </tr>\n",
       "    <tr>\n",
       "      <th>3</th>\n",
       "      <td>d</td>\n",
       "      <td>0.100</td>\n",
       "      <td>0.010</td>\n",
       "      <td>4</td>\n",
       "      <td>15</td>\n",
       "    </tr>\n",
       "    <tr>\n",
       "      <th>4</th>\n",
       "      <td>e</td>\n",
       "      <td>0.300</td>\n",
       "      <td>0.100</td>\n",
       "      <td>5</td>\n",
       "      <td>10</td>\n",
       "    </tr>\n",
       "    <tr>\n",
       "      <th>5</th>\n",
       "      <td>f</td>\n",
       "      <td>0.300</td>\n",
       "      <td>0.080</td>\n",
       "      <td>6</td>\n",
       "      <td>11</td>\n",
       "    </tr>\n",
       "    <tr>\n",
       "      <th>6</th>\n",
       "      <td>g</td>\n",
       "      <td>3.100</td>\n",
       "      <td>0.120</td>\n",
       "      <td>7</td>\n",
       "      <td>2</td>\n",
       "    </tr>\n",
       "    <tr>\n",
       "      <th>7</th>\n",
       "      <td>h</td>\n",
       "      <td>0.400</td>\n",
       "      <td>0.060</td>\n",
       "      <td>8</td>\n",
       "      <td>8</td>\n",
       "    </tr>\n",
       "    <tr>\n",
       "      <th>8</th>\n",
       "      <td>i</td>\n",
       "      <td>0.400</td>\n",
       "      <td>0.050</td>\n",
       "      <td>9</td>\n",
       "      <td>9</td>\n",
       "    </tr>\n",
       "    <tr>\n",
       "      <th>9</th>\n",
       "      <td>j</td>\n",
       "      <td>0.010</td>\n",
       "      <td>1.000</td>\n",
       "      <td>10</td>\n",
       "      <td>13</td>\n",
       "    </tr>\n",
       "    <tr>\n",
       "      <th>10</th>\n",
       "      <td>k</td>\n",
       "      <td>0.010</td>\n",
       "      <td>0.990</td>\n",
       "      <td>11</td>\n",
       "      <td>14</td>\n",
       "    </tr>\n",
       "    <tr>\n",
       "      <th>11</th>\n",
       "      <td>l</td>\n",
       "      <td>1.100</td>\n",
       "      <td>0.100</td>\n",
       "      <td>12</td>\n",
       "      <td>4</td>\n",
       "    </tr>\n",
       "    <tr>\n",
       "      <th>12</th>\n",
       "      <td>m</td>\n",
       "      <td>1.080</td>\n",
       "      <td>0.100</td>\n",
       "      <td>13</td>\n",
       "      <td>5</td>\n",
       "    </tr>\n",
       "    <tr>\n",
       "      <th>13</th>\n",
       "      <td>n</td>\n",
       "      <td>3.200</td>\n",
       "      <td>0.040</td>\n",
       "      <td>14</td>\n",
       "      <td>1</td>\n",
       "    </tr>\n",
       "    <tr>\n",
       "      <th>14</th>\n",
       "      <td>o</td>\n",
       "      <td>0.001</td>\n",
       "      <td>1.000</td>\n",
       "      <td>15</td>\n",
       "      <td>16</td>\n",
       "    </tr>\n",
       "    <tr>\n",
       "      <th>15</th>\n",
       "      <td>p</td>\n",
       "      <td>0.100</td>\n",
       "      <td>0.050</td>\n",
       "      <td>16</td>\n",
       "      <td>12</td>\n",
       "    </tr>\n",
       "  </tbody>\n",
       "</table>\n",
       "</div>"
      ],
      "text/plain": [
       "   name    rev   prob  default_rnk  ranking\n",
       "0     a  3.100  0.050            1        3\n",
       "1     b  1.100  0.020            2        7\n",
       "2     c  5.100  0.005            3        6\n",
       "3     d  0.100  0.010            4       15\n",
       "4     e  0.300  0.100            5       10\n",
       "5     f  0.300  0.080            6       11\n",
       "6     g  3.100  0.120            7        2\n",
       "7     h  0.400  0.060            8        8\n",
       "8     i  0.400  0.050            9        9\n",
       "9     j  0.010  1.000           10       13\n",
       "10    k  0.010  0.990           11       14\n",
       "11    l  1.100  0.100           12        4\n",
       "12    m  1.080  0.100           13        5\n",
       "13    n  3.200  0.040           14        1\n",
       "14    o  0.001  1.000           15       16\n",
       "15    p  0.100  0.050           16       12"
      ]
     },
     "execution_count": 8,
     "metadata": {},
     "output_type": "execute_result"
    }
   ],
   "source": [
    "df\n"
   ]
  },
  {
   "cell_type": "code",
   "execution_count": 9,
   "id": "5399b7fb-d355-4064-8c78-5fc9e4f01bdf",
   "metadata": {
    "execution": {
     "iopub.execute_input": "2022-03-08T19:13:22.673968Z",
     "iopub.status.busy": "2022-03-08T19:13:22.673694Z",
     "iopub.status.idle": "2022-03-08T19:13:22.685646Z",
     "shell.execute_reply": "2022-03-08T19:13:22.685160Z"
    }
   },
   "outputs": [],
   "source": [
    "rev_full_best_x = expected_revenue(df, revenue_col=\"rev\", \n",
    "                                   probability_col=\"prob\", \n",
    "                                   ranking_col=\"ranking\", g=g)\n"
   ]
  },
  {
   "cell_type": "code",
   "execution_count": 10,
   "id": "4d1e1d63-33d0-42f4-9ef4-187a6f8c24ad",
   "metadata": {
    "execution": {
     "iopub.execute_input": "2022-03-08T19:13:22.688247Z",
     "iopub.status.busy": "2022-03-08T19:13:22.687893Z",
     "iopub.status.idle": "2022-03-08T19:13:22.691831Z",
     "shell.execute_reply": "2022-03-08T19:13:22.691320Z"
    }
   },
   "outputs": [
    {
     "data": {
      "text/plain": [
       "73.44720296571236"
      ]
     },
     "execution_count": 10,
     "metadata": {},
     "output_type": "execute_result"
    }
   ],
   "source": [
    "(rev_full_best_x/rev_default - 1) * 100\n"
   ]
  }
 ],
 "metadata": {
  "kernelspec": {
   "display_name": "Python 3 (ipykernel)",
   "language": "python",
   "name": "python3"
  },
  "language_info": {
   "codemirror_mode": {
    "name": "ipython",
    "version": 3
   },
   "file_extension": ".py",
   "mimetype": "text/x-python",
   "name": "python",
   "nbconvert_exporter": "python",
   "pygments_lexer": "ipython3",
   "version": "3.7.12"
  }
 },
 "nbformat": 4,
 "nbformat_minor": 5
}
