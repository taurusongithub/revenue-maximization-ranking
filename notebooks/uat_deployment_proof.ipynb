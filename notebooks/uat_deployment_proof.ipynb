{
 "cells": [
  {
   "cell_type": "code",
   "execution_count": null,
   "id": "bb5c6cbb-adb2-41fb-b939-dcb4f636b3ae",
   "metadata": {},
   "outputs": [],
   "source": [
    "from scipy.stats import randint\n",
    "import pandas as pd\n",
    "import revenue_maximization_ranking as rmr\n",
    "from revenue_maximization_ranking.cascade import full_best_x, expected_revenue\n"
   ]
  },
  {
   "cell_type": "code",
   "execution_count": null,
   "id": "c7a2b88e-6747-4963-83ef-4f3fd96b90e2",
   "metadata": {},
   "outputs": [],
   "source": [
    "revenue_maximization_ranking.__version__"
   ]
  },
  {
   "cell_type": "code",
   "execution_count": null,
   "id": "8e0d84de-5998-4656-82ca-75f60fef1e2d",
   "metadata": {},
   "outputs": [],
   "source": [
    "g = randint(1, 20)\n"
   ]
  },
  {
   "cell_type": "code",
   "execution_count": null,
   "id": "1be8fe51-9f53-430d-acfa-6170cbc07727",
   "metadata": {},
   "outputs": [],
   "source": [
    "df = pd.DataFrame({\"name\": list(\"abcdefghijklmnop\"),\n",
    "                   \"rev\": [3.1, 1.1, 5.1, 0.1, 0.3, 0.3, 3.1, 0.4, 0.4, 0.01,\n",
    "                           0.01, 1.1, 1.08, 3.2, 0.001, 0.1],\n",
    "                   \"prob\": [0.05, 0.02, 0.005, 0.01, 0.1, 0.08, 0.12, 0.06,\n",
    "                            0.05, 1-0, 0.99, 0.1, 0.1, 0.04, 1.0, 0.05]})\n"
   ]
  },
  {
   "cell_type": "code",
   "execution_count": null,
   "id": "52dfa00a-012b-471f-a05a-4f1400705c83",
   "metadata": {},
   "outputs": [],
   "source": [
    "df[\"default_rnk\"] = [i + 1 for i in range(df.shape[0])]\n"
   ]
  },
  {
   "cell_type": "code",
   "execution_count": null,
   "id": "a37a19e2-db08-4b57-a5e4-c350ab23c7a4",
   "metadata": {},
   "outputs": [],
   "source": [
    "rev_default = expected_revenue(df, revenue_col=\"rev\", probability_col=\"prob\", \n",
    "                               ranking_col=\"default_rnk\", g=g)\n"
   ]
  },
  {
   "cell_type": "code",
   "execution_count": null,
   "id": "d987e9ef-50dd-4fd8-b76c-2adeb30f7475",
   "metadata": {},
   "outputs": [],
   "source": [
    "df[\"ranking\"] = full_best_x(df, revenue_col=\"rev\", probability_col=\"prob\",\n",
    "                            g=g)\n"
   ]
  },
  {
   "cell_type": "code",
   "execution_count": null,
   "id": "f679e1b6-0dbb-40c0-80be-807230eb0607",
   "metadata": {},
   "outputs": [],
   "source": [
    "df\n"
   ]
  },
  {
   "cell_type": "code",
   "execution_count": null,
   "id": "5399b7fb-d355-4064-8c78-5fc9e4f01bdf",
   "metadata": {},
   "outputs": [],
   "source": [
    "rev_full_best_x = expected_revenue(df, revenue_col=\"rev\", \n",
    "                                   probability_col=\"prob\", \n",
    "                                   ranking_col=\"ranking\", g=g)\n"
   ]
  },
  {
   "cell_type": "code",
   "execution_count": null,
   "id": "4d1e1d63-33d0-42f4-9ef4-187a6f8c24ad",
   "metadata": {},
   "outputs": [],
   "source": [
    "(rev_full_best_x/rev_default - 1) * 100\n"
   ]
  }
 ],
 "metadata": {
  "kernelspec": {
   "display_name": "Python 3 (ipykernel)",
   "language": "python",
   "name": "python3"
  },
  "language_info": {
   "codemirror_mode": {
    "name": "ipython",
    "version": 3
   },
   "file_extension": ".py",
   "mimetype": "text/x-python",
   "name": "python",
   "nbconvert_exporter": "python",
   "pygments_lexer": "ipython3",
   "version": "3.7.12"
  }
 },
 "nbformat": 4,
 "nbformat_minor": 5
}
