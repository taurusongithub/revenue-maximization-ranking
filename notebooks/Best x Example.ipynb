{
 "cells": [
  {
   "cell_type": "markdown",
   "id": "9390eb85-2307-421c-96cf-e1d2a5f759e0",
   "metadata": {},
   "source": [
    "# Best x algorithm example\n",
    "\n",
    "In this notebook we show with an example how the \"best x\" algorithm works."
   ]
  },
  {
   "cell_type": "code",
   "execution_count": 1,
   "id": "3964d103-47b8-4ecc-8124-f7977922b727",
   "metadata": {},
   "outputs": [],
   "source": [
    "# The whole universe of products\n",
    "products = {\"a\": {\"revenue\": 3.1, \"probability\": 0.05},\n",
    "            \"b\": {\"revenue\": 1.1, \"probability\": 0.02},\n",
    "            \"c\": {\"revenue\": 5.1, \"probability\": 0.005},\n",
    "            \"d\": {\"revenue\": 0.1, \"probability\": 0.01},\n",
    "            \"e\": {\"revenue\": 0.3, \"probability\": 0.1},\n",
    "            \"f\": {\"revenue\": 0.3, \"probability\": 0.08},\n",
    "            \"g\": {\"revenue\": 3.1, \"probability\": 0.12},\n",
    "            \"h\": {\"revenue\": 0.4, \"probability\": 0.06},\n",
    "            \"i\": {\"revenue\": 0.4, \"probability\": 0.05},\n",
    "            \"j\": {\"revenue\": 0.01, \"probability\": 1},\n",
    "            \"k\": {\"revenue\": 0.01, \"probability\": 0.99},\n",
    "            \"l\": {\"revenue\": 1.1, \"probability\": 0.1},\n",
    "            \"m\": {\"revenue\": 1.08, \"probability\": 0.1},\n",
    "            \"n\": {\"revenue\": 3.2, \"probability\": 0.04},\n",
    "            \"o\": {\"revenue\": 0.001, \"probability\": 1.0},\n",
    "            \"p\": {\"revenue\": 0.1, \"probability\": 0.05}}\n",
    "# Capacity\n",
    "M = 10\n"
   ]
  },
  {
   "cell_type": "code",
   "execution_count": 2,
   "id": "8a548640-c2ea-4863-a107-621ba3f28afd",
   "metadata": {},
   "outputs": [],
   "source": [
    "msg = \"Products in the example must have positive revenues\"\n",
    "assert min([p[1][\"revenue\"] for p in products.items()]) > 0.0, msg\n"
   ]
  },
  {
   "cell_type": "code",
   "execution_count": 3,
   "id": "17b23c5c-dc8b-4fdb-837c-e4d7da92f87f",
   "metadata": {},
   "outputs": [],
   "source": [
    "from typing import List, Tuple\n"
   ]
  },
  {
   "cell_type": "code",
   "execution_count": 4,
   "id": "8b46f3ed-b43c-4bae-98e6-663b7eecbe3f",
   "metadata": {},
   "outputs": [],
   "source": [
    "def key(item: List) -> Tuple:\n",
    "    return item[1][\"revenue\"], item[1][\"probability\"]\n"
   ]
  },
  {
   "cell_type": "markdown",
   "id": "e3b82e42-9a5f-492f-a222-6c98048ea83c",
   "metadata": {},
   "source": [
    "### Lema 1 priority order\n",
    "\n",
    "Lema 1 shows that, given an assortment of product of length $x$, the optimal is obtained by sorting by revenues and probabilities."
   ]
  },
  {
   "cell_type": "code",
   "execution_count": 5,
   "id": "14031f88-6922-47ff-b770-0931fd226f0d",
   "metadata": {},
   "outputs": [
    {
     "name": "stdout",
     "output_type": "stream",
     "text": [
      "Id: c description: {'revenue': 5.1, 'probability': 0.005}\n",
      "Id: n description: {'revenue': 3.2, 'probability': 0.04}\n",
      "Id: g description: {'revenue': 3.1, 'probability': 0.12}\n",
      "Id: a description: {'revenue': 3.1, 'probability': 0.05}\n",
      "Id: l description: {'revenue': 1.1, 'probability': 0.1}\n",
      "Id: b description: {'revenue': 1.1, 'probability': 0.02}\n",
      "Id: m description: {'revenue': 1.08, 'probability': 0.1}\n",
      "Id: h description: {'revenue': 0.4, 'probability': 0.06}\n",
      "Id: i description: {'revenue': 0.4, 'probability': 0.05}\n",
      "Id: e description: {'revenue': 0.3, 'probability': 0.1}\n",
      "Id: f description: {'revenue': 0.3, 'probability': 0.08}\n",
      "Id: p description: {'revenue': 0.1, 'probability': 0.05}\n",
      "Id: d description: {'revenue': 0.1, 'probability': 0.01}\n",
      "Id: j description: {'revenue': 0.01, 'probability': 1}\n",
      "Id: k description: {'revenue': 0.01, 'probability': 0.99}\n",
      "Id: o description: {'revenue': 0.001, 'probability': 1.0}\n"
     ]
    }
   ],
   "source": [
    "# Lema 1 asserts that for fixed attention spans only the assortment is\n",
    "# needed and the ranking follows from sorting by revenue and then \n",
    "# probability.\n",
    "for id_, info in sorted(products.items(), key=key, reverse=True):\n",
    "    print(\"Id:\", id_, \"description:\", info)\n"
   ]
  },
  {
   "cell_type": "markdown",
   "id": "8c3d33b2-8311-4a6b-85a9-f94678a8cb71",
   "metadata": {},
   "source": [
    "### Algorithm 1\n",
    "\n",
    "The algorithm 1 shows us how to get the minimal lexicographical optimal ranking for each fixed attention span $k$."
   ]
  },
  {
   "cell_type": "code",
   "execution_count": 6,
   "id": "b67f3945-b3aa-40b6-9e96-1b7e71671345",
   "metadata": {},
   "outputs": [],
   "source": [
    "from collections import defaultdict\n",
    "from copy import copy\n"
   ]
  },
  {
   "cell_type": "code",
   "execution_count": 7,
   "id": "87636ef5-5954-4e1d-96f4-c2d35859a582",
   "metadata": {},
   "outputs": [],
   "source": [
    "# Algorithm 1\n",
    "H = defaultdict(lambda: 0.0)\n",
    "assort = defaultdict(lambda: [])\n",
    "\n",
    "for k in range(1, min(len(products), M) + 1):\n",
    "    for j, product in reversed(list(enumerate(sorted(products.items(), \n",
    "                                                     key=key, \n",
    "                                                     reverse=True)))):\n",
    "        default = H[j+1, k]\n",
    "        alternative = (H[j+1, k-1] \n",
    "                       + product[1][\"probability\"] * (product[1][\"revenue\"]\n",
    "                                                      - H[j+1, k-1]))\n",
    "        if alternative >= default:\n",
    "            H[j, k] = alternative\n",
    "            aux_list = copy(assort[j+1, k-1])\n",
    "            aux_list.append(product)\n",
    "            assort[j, k] = aux_list\n",
    "        else:\n",
    "            H[j, k] = default\n",
    "            assort[j, k] = assort[j+1, k]\n"
   ]
  },
  {
   "cell_type": "code",
   "execution_count": 8,
   "id": "6aa7846b-07c5-413b-997b-cd10d1dd3a28",
   "metadata": {},
   "outputs": [],
   "source": [
    "rankings = {k: sorted(assort[0, k], key=key, reverse=True) \n",
    "            for k in range(1, min(len(products), M) + 1)}\n",
    "revenues = {k: H[0, k] for k in range(1, min(len(products), M) + 1)}\n"
   ]
  },
  {
   "cell_type": "code",
   "execution_count": 9,
   "id": "76befe2c-6b28-4436-a22f-e86bc0b07934",
   "metadata": {},
   "outputs": [
    {
     "data": {
      "text/plain": [
       "0.8039426598400001"
      ]
     },
     "execution_count": 9,
     "metadata": {},
     "output_type": "execute_result"
    }
   ],
   "source": [
    "revenues[6]\n"
   ]
  },
  {
   "cell_type": "code",
   "execution_count": 10,
   "id": "b08a21d1-c179-4e87-971e-83c535d24b02",
   "metadata": {},
   "outputs": [
    {
     "data": {
      "text/plain": [
       "[('c', {'revenue': 5.1, 'probability': 0.005}),\n",
       " ('n', {'revenue': 3.2, 'probability': 0.04}),\n",
       " ('g', {'revenue': 3.1, 'probability': 0.12}),\n",
       " ('a', {'revenue': 3.1, 'probability': 0.05}),\n",
       " ('l', {'revenue': 1.1, 'probability': 0.1}),\n",
       " ('m', {'revenue': 1.08, 'probability': 0.1})]"
      ]
     },
     "execution_count": 10,
     "metadata": {},
     "output_type": "execute_result"
    }
   ],
   "source": [
    "rankings[6]\n"
   ]
  },
  {
   "cell_type": "code",
   "execution_count": 11,
   "id": "357791ad-0e34-4224-a0f3-bade50c25231",
   "metadata": {},
   "outputs": [],
   "source": [
    "eps = 0.000000000000001\n",
    "for k in range(1, min(M, len(products)) + 1):\n",
    "    # Testing that H[0, k] is the expected revenue\n",
    "    revenue = 0.0\n",
    "    negative_cumm_prob = 1.0\n",
    "    for _, product_info in rankings[k]:\n",
    "        prob = product_info[\"probability\"]\n",
    "        revenue += negative_cumm_prob * prob * product_info[\"revenue\"]\n",
    "        negative_cumm_prob *= (1 - prob)\n",
    "\n",
    "\n",
    "    assert abs(revenue - revenues[k]) < eps, f\"{k} failed!\"\n"
   ]
  },
  {
   "cell_type": "markdown",
   "id": "b3aa5ec7-aea9-4e69-81d2-35dacbffaac7",
   "metadata": {},
   "source": [
    "# Random attention span\n",
    "As shown in Example 1 from [Revenue Maximization and Learning in Products Ranking](https://arxiv.org/abs/2012.03800) the ranking that maximizes the expected revenue in case the attention span is random is not necessarily the optimal for some fixed attention span.\n",
    "\n",
    "## Best x algorithm\n",
    "This algorithm proposes to chose some fixed attention span $x$, which $x$? The **best x**!\n",
    "Given an optimal $\\sigma$ ranking for attention span $x$ the expected revenue should be at least:\n",
    "\n",
    "$$R(\\sigma_{x}, x) Prob(X \\geq x) = R(\\sigma_{x}, x) G(x).$$\n",
    "\n",
    "The best $x$ is then:\n",
    "\n",
    "$$x = \\text{arg}\\max  R(\\sigma_{x}, x) G(x)$$"
   ]
  },
  {
   "cell_type": "code",
   "execution_count": 12,
   "id": "b4c51214-4445-4591-9e56-5447af5b7fac",
   "metadata": {},
   "outputs": [],
   "source": [
    "from scipy.stats import randint\n",
    "import numpy as np\n",
    "\n",
    "np.seed = 42\n"
   ]
  },
  {
   "cell_type": "code",
   "execution_count": 13,
   "id": "ef4352b3-ac61-4a6b-87f5-6bd5eb51a7d0",
   "metadata": {},
   "outputs": [],
   "source": [
    "# distribution of attention spans\n",
    "g = randint(1, M + 1)\n"
   ]
  },
  {
   "cell_type": "code",
   "execution_count": 14,
   "id": "5b81444d-baa5-4752-876f-799a84c60cac",
   "metadata": {},
   "outputs": [],
   "source": [
    "maximum_lower_bound = 0.0\n",
    "best_x = 0\n",
    "for x, revenue_best_assort in revenues.items():\n",
    "    revenue_lower_bound = revenue_best_assort * (g.sf(x) + g.pmf(x))\n",
    "    if revenue_lower_bound > maximum_lower_bound:\n",
    "        best_x = x\n",
    "        maximum_lower_bound = revenue_lower_bound\n",
    " "
   ]
  },
  {
   "cell_type": "code",
   "execution_count": 15,
   "id": "684ed91f-b64c-4cea-a30b-61df2a31c22c",
   "metadata": {},
   "outputs": [
    {
     "data": {
      "text/plain": [
       "4"
      ]
     },
     "execution_count": 15,
     "metadata": {},
     "output_type": "execute_result"
    }
   ],
   "source": [
    "best_x\n"
   ]
  },
  {
   "cell_type": "code",
   "execution_count": 16,
   "id": "0ec23d4a-cec4-4194-8ce5-540c88f48b74",
   "metadata": {},
   "outputs": [
    {
     "data": {
      "text/plain": [
       "[('n', {'revenue': 3.2, 'probability': 0.04}),\n",
       " ('g', {'revenue': 3.1, 'probability': 0.12}),\n",
       " ('a', {'revenue': 3.1, 'probability': 0.05}),\n",
       " ('l', {'revenue': 1.1, 'probability': 0.1})]"
      ]
     },
     "execution_count": 16,
     "metadata": {},
     "output_type": "execute_result"
    }
   ],
   "source": [
    "rankings[best_x]\n"
   ]
  },
  {
   "cell_type": "markdown",
   "id": "096398cd-3a5c-40cc-b47f-ab6b19edbf64",
   "metadata": {},
   "source": [
    "### Expected revenue\n",
    "Since in this example we know the exact distribution of attention spans we can calculate the expected revenue of the \"best x\" strategy."
   ]
  },
  {
   "cell_type": "code",
   "execution_count": 17,
   "id": "427d4a98-8299-4da7-a291-502fb4ded3ab",
   "metadata": {},
   "outputs": [],
   "source": [
    "expected_revenue = 0.0\n",
    "negative_cumm_prob = 1.0\n",
    "for i, product in enumerate(rankings[best_x]):\n",
    "    prob = product[1][\"probability\"]\n",
    "    expected_revenue += (negative_cumm_prob * prob \n",
    "                         * product[1][\"revenue\"]\n",
    "                         # this works since g can only take integer values\n",
    "                         * (g.sf(i)))\n",
    "    negative_cumm_prob *= (1 - prob)\n"
   ]
  },
  {
   "cell_type": "code",
   "execution_count": 18,
   "id": "660437f4-6c1e-4aeb-a49a-1f28259f201e",
   "metadata": {},
   "outputs": [
    {
     "data": {
      "text/plain": [
       "0.6159603200000001"
      ]
     },
     "execution_count": 18,
     "metadata": {},
     "output_type": "execute_result"
    }
   ],
   "source": [
    "expected_revenue\n"
   ]
  }
 ],
 "metadata": {
  "kernelspec": {
   "display_name": "Python 3 (ipykernel)",
   "language": "python",
   "name": "python3"
  },
  "language_info": {
   "codemirror_mode": {
    "name": "ipython",
    "version": 3
   },
   "file_extension": ".py",
   "mimetype": "text/x-python",
   "name": "python",
   "nbconvert_exporter": "python",
   "pygments_lexer": "ipython3",
   "version": "3.7.12"
  }
 },
 "nbformat": 4,
 "nbformat_minor": 5
}
